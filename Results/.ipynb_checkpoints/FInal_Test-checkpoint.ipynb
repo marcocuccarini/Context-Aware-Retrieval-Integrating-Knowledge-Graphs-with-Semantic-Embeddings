{
 "cells": [
  {
   "cell_type": "code",
   "execution_count": 10,
   "id": "1ae4c640-cc1e-4c1b-9678-115df8f5f599",
   "metadata": {},
   "outputs": [],
   "source": [
    "import json\n",
    "\n",
    "\n",
    "  \n"
   ]
  },
  {
   "cell_type": "code",
   "execution_count": 21,
   "id": "f5226fc1-8e7a-41ca-8de5-01454e3ee237",
   "metadata": {},
   "outputs": [
    {
     "name": "stderr",
     "output_type": "stream",
     "text": [
      "<>:52: SyntaxWarning: invalid escape sequence '\\m'\n",
      "<>:52: SyntaxWarning: invalid escape sequence '\\m'\n",
      "/var/folders/nc/p6k105f139q430x4fp6_cjnw0000gn/T/ipykernel_3170/3128821472.py:52: SyntaxWarning: invalid escape sequence '\\m'\n",
      "  correct_ranks = get_correct_passage_ranks('result\\model_all-MiniLM-L6-v2\\florence_query_passage_rankings_by_id.json')\n",
      "/var/folders/nc/p6k105f139q430x4fp6_cjnw0000gn/T/ipykernel_3170/3128821472.py:52: SyntaxWarning: invalid escape sequence '\\m'\n",
      "  correct_ranks = get_correct_passage_ranks('result\\model_all-MiniLM-L6-v2\\florence_query_passage_rankings_by_id.json')\n"
     ]
    },
    {
     "ename": "FileNotFoundError",
     "evalue": "[Errno 2] No such file or directory: 'result\\\\model_all-MiniLM-L6-v2\\x0clorence_query_passage_rankings_by_id.json'",
     "output_type": "error",
     "traceback": [
      "\u001b[0;31m---------------------------------------------------------------------------\u001b[0m",
      "\u001b[0;31mFileNotFoundError\u001b[0m                         Traceback (most recent call last)",
      "Cell \u001b[0;32mIn[21], line 52\u001b[0m\n\u001b[1;32m     48\u001b[0m         \u001b[38;5;28;01mreturn\u001b[39;00m metrics\n\u001b[1;32m     50\u001b[0m \u001b[38;5;66;03m# Example usage:\u001b[39;00m\n\u001b[1;32m     51\u001b[0m \u001b[38;5;66;03m# First, get the correct passage ranks\u001b[39;00m\n\u001b[0;32m---> 52\u001b[0m correct_ranks \u001b[38;5;241m=\u001b[39m \u001b[43mget_correct_passage_ranks\u001b[49m\u001b[43m(\u001b[49m\u001b[38;5;124;43m'\u001b[39;49m\u001b[38;5;124;43mresult\u001b[39;49m\u001b[38;5;124;43m\\\u001b[39;49m\u001b[38;5;124;43mmodel_all-MiniLM-L6-v2\u001b[39;49m\u001b[38;5;130;43;01m\\f\u001b[39;49;00m\u001b[38;5;124;43mlorence_query_passage_rankings_by_id.json\u001b[39;49m\u001b[38;5;124;43m'\u001b[39;49m\u001b[43m)\u001b[49m\n\u001b[1;32m     54\u001b[0m \u001b[38;5;66;03m# Then, compute the IR metrics\u001b[39;00m\n\u001b[1;32m     55\u001b[0m ir_metrics \u001b[38;5;241m=\u001b[39m InformationRetrievalMetrics()\n",
      "Cell \u001b[0;32mIn[21], line 6\u001b[0m, in \u001b[0;36mget_correct_passage_ranks\u001b[0;34m(json_filename)\u001b[0m\n\u001b[1;32m      4\u001b[0m \u001b[38;5;28;01mdef\u001b[39;00m\u001b[38;5;250m \u001b[39m\u001b[38;5;21mget_correct_passage_ranks\u001b[39m(json_filename):\n\u001b[1;32m      5\u001b[0m     \u001b[38;5;66;03m# Load the JSON data from the provided file\u001b[39;00m\n\u001b[0;32m----> 6\u001b[0m     \u001b[38;5;28;01mwith\u001b[39;00m \u001b[38;5;28;43mopen\u001b[39;49m\u001b[43m(\u001b[49m\u001b[43mjson_filename\u001b[49m\u001b[43m,\u001b[49m\u001b[43m \u001b[49m\u001b[38;5;124;43m'\u001b[39;49m\u001b[38;5;124;43mr\u001b[39;49m\u001b[38;5;124;43m'\u001b[39;49m\u001b[43m)\u001b[49m \u001b[38;5;28;01mas\u001b[39;00m f:\n\u001b[1;32m      7\u001b[0m         data \u001b[38;5;241m=\u001b[39m json\u001b[38;5;241m.\u001b[39mload(f)\n\u001b[1;32m      9\u001b[0m     \u001b[38;5;66;03m# List to store the ranks of correct passages\u001b[39;00m\n",
      "File \u001b[0;32m/Library/Frameworks/Python.framework/Versions/3.13/lib/python3.13/site-packages/IPython/core/interactiveshell.py:324\u001b[0m, in \u001b[0;36m_modified_open\u001b[0;34m(file, *args, **kwargs)\u001b[0m\n\u001b[1;32m    317\u001b[0m \u001b[38;5;28;01mif\u001b[39;00m file \u001b[38;5;129;01min\u001b[39;00m {\u001b[38;5;241m0\u001b[39m, \u001b[38;5;241m1\u001b[39m, \u001b[38;5;241m2\u001b[39m}:\n\u001b[1;32m    318\u001b[0m     \u001b[38;5;28;01mraise\u001b[39;00m \u001b[38;5;167;01mValueError\u001b[39;00m(\n\u001b[1;32m    319\u001b[0m         \u001b[38;5;124mf\u001b[39m\u001b[38;5;124m\"\u001b[39m\u001b[38;5;124mIPython won\u001b[39m\u001b[38;5;124m'\u001b[39m\u001b[38;5;124mt let you open fd=\u001b[39m\u001b[38;5;132;01m{\u001b[39;00mfile\u001b[38;5;132;01m}\u001b[39;00m\u001b[38;5;124m by default \u001b[39m\u001b[38;5;124m\"\u001b[39m\n\u001b[1;32m    320\u001b[0m         \u001b[38;5;124m\"\u001b[39m\u001b[38;5;124mas it is likely to crash IPython. If you know what you are doing, \u001b[39m\u001b[38;5;124m\"\u001b[39m\n\u001b[1;32m    321\u001b[0m         \u001b[38;5;124m\"\u001b[39m\u001b[38;5;124myou can use builtins\u001b[39m\u001b[38;5;124m'\u001b[39m\u001b[38;5;124m open.\u001b[39m\u001b[38;5;124m\"\u001b[39m\n\u001b[1;32m    322\u001b[0m     )\n\u001b[0;32m--> 324\u001b[0m \u001b[38;5;28;01mreturn\u001b[39;00m \u001b[43mio_open\u001b[49m\u001b[43m(\u001b[49m\u001b[43mfile\u001b[49m\u001b[43m,\u001b[49m\u001b[43m \u001b[49m\u001b[38;5;241;43m*\u001b[39;49m\u001b[43margs\u001b[49m\u001b[43m,\u001b[49m\u001b[43m \u001b[49m\u001b[38;5;241;43m*\u001b[39;49m\u001b[38;5;241;43m*\u001b[39;49m\u001b[43mkwargs\u001b[49m\u001b[43m)\u001b[49m\n",
      "\u001b[0;31mFileNotFoundError\u001b[0m: [Errno 2] No such file or directory: 'result\\\\model_all-MiniLM-L6-v2\\x0clorence_query_passage_rankings_by_id.json'"
     ]
    }
   ],
   "source": [
    "import numpy as np\n",
    "import json\n",
    "\n",
    "def get_correct_passage_ranks(json_filename):\n",
    "    # Load the JSON data from the provided file\n",
    "    with open(json_filename, 'r') as f:\n",
    "        data = json.load(f)\n",
    "\n",
    "    # List to store the ranks of correct passages\n",
    "    correct_passage_ranks = {}\n",
    "\n",
    "    # Go through each question and find the rank of the correct passage\n",
    "    for qid, details in data.items():\n",
    "        correct_passage_id = qid  # The key itself represents the correct passage ID\n",
    "        correct_rank = None\n",
    "\n",
    "        # Look for the correct passage by matching the passage_id\n",
    "        for item in details.get(\"ranking\", []):\n",
    "            if item.get(\"passage_id\") == correct_passage_id:\n",
    "                correct_rank = item[\"rank\"]\n",
    "                break\n",
    "\n",
    "        # Store the rank of the correct passage (None if not found)\n",
    "        correct_passage_ranks[qid] = correct_rank\n",
    "\n",
    "    return correct_passage_ranks\n",
    "\n",
    "class InformationRetrievalMetrics:\n",
    "    def compute_ir_metrics(self, rankings, k_values=[1, 5, 10, 20, 50, 100, 200]):\n",
    "        num_samples = len(rankings)\n",
    "        reciprocal_ranks = []\n",
    "        hits_at_k = {k: 0 for k in k_values}\n",
    "\n",
    "        for rank in rankings.values():\n",
    "            if rank is None:\n",
    "                reciprocal_ranks.append(0)\n",
    "            else:\n",
    "                reciprocal_ranks.append(1.0 / rank)\n",
    "                for k in k_values:\n",
    "                    if rank <= k:\n",
    "                        hits_at_k[k] += 1\n",
    "\n",
    "        mrr = np.mean(reciprocal_ranks)\n",
    "        hits_at_k = {f\"Hits@{k}\": hits / num_samples for k, hits in hits_at_k.items()}\n",
    "\n",
    "        metrics = {\"MRR\": mrr}\n",
    "        metrics.update(hits_at_k)\n",
    "        return metrics\n",
    "\n",
    "# Example usage:\n",
    "# First, get the correct passage ranks\n",
    "correct_ranks = get_correct_passage_ranks('result\\model_all-MiniLM-L6-v2\\florence_query_passage_rankings_by_id.json')\n",
    "\n",
    "# Then, compute the IR metrics\n",
    "ir_metrics = InformationRetrievalMetrics()\n",
    "metrics = ir_metrics.compute_ir_metrics(correct_ranks)\n",
    "\n",
    "# Output the IR metrics\n",
    "print(metrics)\n"
   ]
  },
  {
   "cell_type": "code",
   "execution_count": null,
   "id": "43db2caa-2b16-4278-8c63-8424219bc03e",
   "metadata": {},
   "outputs": [],
   "source": []
  }
 ],
 "metadata": {
  "kernelspec": {
   "display_name": "Python 3 (ipykernel)",
   "language": "python",
   "name": "python3"
  },
  "language_info": {
   "codemirror_mode": {
    "name": "ipython",
    "version": 3
   },
   "file_extension": ".py",
   "mimetype": "text/x-python",
   "name": "python",
   "nbconvert_exporter": "python",
   "pygments_lexer": "ipython3",
   "version": "3.13.2"
  }
 },
 "nbformat": 4,
 "nbformat_minor": 5
}
